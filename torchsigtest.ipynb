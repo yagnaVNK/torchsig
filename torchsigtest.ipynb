{
 "cells": [
  {
   "cell_type": "code",
   "execution_count": 9,
   "metadata": {},
   "outputs": [],
   "source": [
    "import torchsig\n",
    "from torchsig.utils.dataset import SignalFileDataset\n",
    "from torchsig.datasets.modulations import ModulationsDataset\n",
    "import torchsig.transforms as ST\n",
    "\n"
   ]
  },
  {
   "cell_type": "code",
   "execution_count": 15,
   "metadata": {},
   "outputs": [],
   "source": [
    "classes = [\"4ask\",\"8pam\",\"16psk\",\"32qam_cross\",\"2fsk\",\"ofdm-256\"]\n",
    "num_classes = len(classes)\n",
    "training_samples_per_class = 4000\n",
    "valid_samples_per_class = 1000\n",
    "test_samples_per_class = 1000\n",
    "num_workers=32\n",
    "num_iq_samples = 1024\n",
    "\n",
    "data_transform = ST.Compose([\n",
    "        ST.ComplexTo2D(),\n",
    "    ])\n",
    "\n",
    "ds_train = ModulationsDataset(\n",
    "        classes=classes,\n",
    "        use_class_idx=True,\n",
    "        level=0,\n",
    "        num_iq_samples=num_iq_samples,\n",
    "        num_samples=int(num_classes*training_samples_per_class),\n",
    "        include_snr=False,\n",
    "        transform = data_transform\n",
    "    )"
   ]
  },
  {
   "cell_type": "code",
   "execution_count": null,
   "metadata": {},
   "outputs": [],
   "source": []
  },
  {
   "cell_type": "code",
   "execution_count": null,
   "metadata": {},
   "outputs": [],
   "source": []
  }
 ],
 "metadata": {
  "kernelspec": {
   "display_name": "env_torchsig",
   "language": "python",
   "name": "python3"
  },
  "language_info": {
   "codemirror_mode": {
    "name": "ipython",
    "version": 3
   },
   "file_extension": ".py",
   "mimetype": "text/x-python",
   "name": "python",
   "nbconvert_exporter": "python",
   "pygments_lexer": "ipython3",
   "version": "3.10.10"
  }
 },
 "nbformat": 4,
 "nbformat_minor": 2
}
